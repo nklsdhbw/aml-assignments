{
 "cells": [
  {
   "cell_type": "markdown",
   "metadata": {},
   "source": [
    "# Niklas Scholz - 3832620"
   ]
  },
  {
   "cell_type": "markdown",
   "metadata": {},
   "source": [
    "# Imports"
   ]
  },
  {
   "cell_type": "code",
   "execution_count": 42,
   "metadata": {},
   "outputs": [],
   "source": [
    "import pandas as pd\n",
    "import numpy as np\n",
    "from sklearn.pipeline import Pipeline\n",
    "from sklearn.preprocessing import StandardScaler\n",
    "from sklearn.decomposition import PCA\n",
    "from scipy.fft import fft\n",
    "from sklearn.ensemble import RandomForestClassifier\n",
    "from sklearn.metrics import accuracy_score\n"
   ]
  },
  {
   "cell_type": "markdown",
   "metadata": {},
   "source": [
    "# Read Data"
   ]
  },
  {
   "cell_type": "code",
   "execution_count": 43,
   "metadata": {},
   "outputs": [],
   "source": [
    "X_test = pd.read_csv(\"PEMS_test\", sep=\";\", header=None)\n",
    "X_train = pd.read_csv(\"PEMS_train\", sep=\";\", header=None)\n",
    "y_test = pd.read_csv(\"PEMS_testlabels\", sep=\";\", header=None)\n",
    "y_train = pd.read_csv(\"PEMS_trainlabels\", sep=\";\", header=None)\n",
    "stationsList = pd.read_csv(\"stations_list\", sep=\";\", header=None)"
   ]
  },
  {
   "cell_type": "code",
   "execution_count": 44,
   "metadata": {},
   "outputs": [],
   "source": [
    "def transposeColumn(df):\n",
    "    # '[\"1\" \"1\" \"1\" ... \"0\" \"0\" \"0\"]' -> [1, 1, 1, ..., 0, 0, 0]\n",
    "    # get rid of the first and last character ([ and ])\n",
    "    df = df.values[0][0][1:-1].split(\" \")\n",
    "    df = [float(i) for i in df]\n",
    "    df = pd.DataFrame(df, columns=[\"label\"])\n",
    "    return df\n",
    "\n",
    "y_train = transposeColumn(y_train)\n",
    "y_test = transposeColumn(y_test)\n",
    "\n",
    "# Extract stations and cast as string\n",
    "stationsList = transposeColumn(stationsList)\n",
    "stationsList = [str(i) for i in stationsList[\"label\"].to_list()]"
   ]
  },
  {
   "cell_type": "code",
   "execution_count": 48,
   "metadata": {},
   "outputs": [],
   "source": [
    "def transposeMeasurments(df):\n",
    "    # Iterate over all columns\n",
    "    for station in stationsList:\n",
    "        # Split by \" \"\n",
    "        lists = []\n",
    "        # Iterate over all rows from one specific columns and store the values as lists in variable lists\n",
    "        for i in range(len(df)):\n",
    "            liste = df[station][i].split(\" \")\n",
    "            if liste[0].startswith(\"[\"):\n",
    "                liste[0] = liste[0].replace(\"[\", \"\")\n",
    "            \n",
    "            if liste[-1].endswith(\"]\"):\n",
    "                liste[-1] = liste[-1].replace(\"]\", \"\")\n",
    "\n",
    "            # Convert all values to float\n",
    "            floats = [float(i) for i in liste]\n",
    "\n",
    "            # Append the list to the lists variable\n",
    "            lists.append(floats)\n",
    "\n",
    "        # Create 144 empty lists for the 144 measurements\n",
    "        newLists = [[] for x in range(len(lists[0]))]\n",
    "    \n",
    "        # Iterate over all lists and append first element to first list, second element to second list and so on\n",
    "        for sublist in lists:\n",
    "            for index, element in enumerate(sublist):\n",
    "                newLists[index].append(element)\n",
    "       \n",
    "        # Create a new dataframe with the new lists\n",
    "        new = pd.DataFrame(newLists)\n",
    "        new = new.transpose()\n",
    "        new.columns = [f\"{station} - Messwert {index}\" for index in range(1, len(newLists) + 1)]\n",
    "        \n",
    "        # Concatenate the new dataframe with the old one\n",
    "        df = pd.concat([df, new], axis=1)\n",
    "\n",
    "    # Drop old columns with the names 0 until 962\n",
    "    df.drop(columns=stationsList, inplace=True)\n",
    "    return df"
   ]
  },
  {
   "cell_type": "code",
   "execution_count": 49,
   "metadata": {},
   "outputs": [],
   "source": [
    "X_test.columns = stationsList\n",
    "X_train.columns = stationsList\n",
    "X_test = transposeMeasurments(X_test)\n",
    "X_train = transposeMeasurments(X_train)"
   ]
  },
  {
   "cell_type": "markdown",
   "metadata": {},
   "source": [
    "# PCA"
   ]
  },
  {
   "cell_type": "code",
   "execution_count": 50,
   "metadata": {},
   "outputs": [],
   "source": [
    "# Create a pipeline with StandardScaler and PCA\n",
    "pipeline = Pipeline([\n",
    "    ('scaler', StandardScaler()),  # Step 1: Standard Scaling\n",
    "    ('pca', PCA(n_components=0.95)),   # Step 2: PCA - keep 95% of the variance\n",
    "])\n",
    "\n",
    "# Fit the pipeline on the training data\n",
    "pipeline.fit(X_train)\n",
    "\n",
    "# Fit and transform the training data\n",
    "X_train_pca = pipeline.transform(X_train)\n",
    "X_test_pca = pipeline.transform(X_test)\n",
    "\n",
    "# Convert NumPy array to DataFrame\n",
    "X_train_pca = pd.DataFrame(X_train_pca, columns=[f'PC{i}' for i in range(1, X_train_pca.shape[1] + 1)])\n",
    "X_test_pca = pd.DataFrame(X_test_pca, columns=[f'PC{i}' for i in range(1, X_train_pca.shape[1] + 1)])\n"
   ]
  },
  {
   "cell_type": "markdown",
   "metadata": {},
   "source": [
    "# FFT"
   ]
  },
  {
   "cell_type": "code",
   "execution_count": 51,
   "metadata": {},
   "outputs": [],
   "source": [
    "# Apply Scipy fft\n",
    "X_train_fft = fft(X_train)\n",
    "X_test_fft = fft(X_test)"
   ]
  },
  {
   "cell_type": "markdown",
   "metadata": {},
   "source": [
    "# Predictions"
   ]
  },
  {
   "cell_type": "code",
   "execution_count": 52,
   "metadata": {},
   "outputs": [
    {
     "name": "stdout",
     "output_type": "stream",
     "text": [
      "Random Forest Classifier accuracy with PCA: 0.8439306358381503\n",
      "Random Forest Classifier with accuracy FFT: 0.7225433526011561\n"
     ]
    }
   ],
   "source": [
    "# Random Forest Classifier\n",
    "# Use ravel to convert y_train from a column vector to a 1d array\n",
    "# Accuracy formula: (TP + TN) / (TP + TN + FP + FN)\n",
    "rf = RandomForestClassifier(n_estimators=100, random_state=42)\n",
    "rf.fit(X_train_pca, y_train.values.ravel())\n",
    "y_test_pred = rf.predict(X_test_pca)\n",
    "print(f\"Random Forest Classifier accuracy with PCA: {accuracy_score(y_test, y_test_pred)}\")\n",
    "\n",
    "rf = RandomForestClassifier(n_estimators=100, random_state=42)\n",
    "rf.fit(X_train_fft.real, y_train.values.ravel())\n",
    "y_test_pred = rf.predict(X_test_fft.real)\n",
    "print(f\"Random Forest Classifier with accuracy FFT: {accuracy_score(y_test, y_test_pred)}\")"
   ]
  }
 ],
 "metadata": {
  "kernelspec": {
   "display_name": "Python 3",
   "language": "python",
   "name": "python3"
  },
  "language_info": {
   "codemirror_mode": {
    "name": "ipython",
    "version": 3
   },
   "file_extension": ".py",
   "mimetype": "text/x-python",
   "name": "python",
   "nbconvert_exporter": "python",
   "pygments_lexer": "ipython3",
   "version": "3.12.0"
  }
 },
 "nbformat": 4,
 "nbformat_minor": 2
}
