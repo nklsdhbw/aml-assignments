{
 "cells": [
  {
   "cell_type": "markdown",
   "metadata": {},
   "source": [
    "# Imports"
   ]
  },
  {
   "cell_type": "code",
   "execution_count": 108,
   "metadata": {},
   "outputs": [],
   "source": [
    "import pandas as pd\n",
    "import numpy as np\n",
    "from sklearn.pipeline import Pipeline\n",
    "from sklearn.preprocessing import StandardScaler\n",
    "from sklearn.decomposition import PCA\n",
    "from scipy.fft import fft\n",
    "from sklearn.ensemble import RandomForestClassifier\n",
    "from sklearn.metrics import accuracy_score\n"
   ]
  },
  {
   "cell_type": "markdown",
   "metadata": {},
   "source": [
    "# Read Data"
   ]
  },
  {
   "cell_type": "code",
   "execution_count": 87,
   "metadata": {},
   "outputs": [],
   "source": [
    "X_test = pd.read_csv(\"PEMS_test\", sep=\";\", header=None)\n",
    "X_train = pd.read_csv(\"PEMS_train\", sep=\";\", header=None)\n",
    "y_test = pd.read_csv(\"PEMS_testlabels\", sep=\";\", header=None)\n",
    "y_train = pd.read_csv(\"PEMS_trainlabels\", sep=\";\", header=None)"
   ]
  },
  {
   "cell_type": "code",
   "execution_count": 88,
   "metadata": {},
   "outputs": [],
   "source": [
    "y_train = y_train.values[0][0][1:-1].split(\" \")\n",
    "y_train = [float(i) for i in y_train]\n",
    "y_train = pd.DataFrame(y_train, columns=[\"label\"])\n",
    "y_test = y_test.values[0][0][1:-1].split(\" \")\n",
    "y_test = [float(i) for i in y_test]\n",
    "y_test = pd.DataFrame(y_test, columns=[\"label\"])"
   ]
  },
  {
   "cell_type": "code",
   "execution_count": 89,
   "metadata": {},
   "outputs": [],
   "source": [
    "def transposeMeasurments(df):\n",
    "    # Iterate over all columns\n",
    "    for column in range(963):\n",
    "        # Split by \" \"\n",
    "        lists = []\n",
    "        # Iterate over all rows from one specific columns and store the values as lists in variable lists\n",
    "        for i in range(len(df)):\n",
    "            liste = df[column][i].split(\" \")\n",
    "            if liste[0].startswith(\"[\"):\n",
    "                liste[0] = liste[0].replace(\"[\", \"\")\n",
    "            \n",
    "            if liste[-1].endswith(\"]\"):\n",
    "                liste[-1] = liste[-1].replace(\"]\", \"\")\n",
    "\n",
    "            floats = [float(i) for i in liste]\n",
    "            lists.append(floats)\n",
    "\n",
    "\n",
    "        neue_listen = [[] for _ in range(len(lists[0]))]\n",
    "    \n",
    "        # Iteriere über die Sublisten\n",
    "        for sublist in lists:\n",
    "            for index, element in enumerate(sublist):\n",
    "                neue_listen[index].append(element)\n",
    "       \n",
    "\n",
    "        new = pd.DataFrame(neue_listen)\n",
    "        new = new.transpose()\n",
    "        new.columns = [f\"Sensor {column} - Messwert {index}\" for index in range(1, len(neue_listen) + 1)]\n",
    "        \n",
    "        df = pd.concat([df, new], axis=1)\n",
    "\n",
    "    # Drop old columns with the names 0 until 962\n",
    "    df.drop(columns=[x for x in range(963)], inplace=True)\n",
    "    return df"
   ]
  },
  {
   "cell_type": "code",
   "execution_count": 90,
   "metadata": {},
   "outputs": [],
   "source": [
    "X_test = transposeMeasurments(X_test)\n",
    "X_train = transposeMeasurments(X_train)"
   ]
  },
  {
   "cell_type": "markdown",
   "metadata": {},
   "source": [
    "# PCA"
   ]
  },
  {
   "cell_type": "code",
   "execution_count": 91,
   "metadata": {},
   "outputs": [],
   "source": [
    "# Create a pipeline with StandardScaler and PCA\n",
    "pipeline = Pipeline([\n",
    "    ('scaler', StandardScaler()),  # Step 1: Standard Scaling\n",
    "    ('pca', PCA(n_components=0.95)),   # Step 2: PCA - keep 95% of the variance\n",
    "])\n",
    "\n",
    "# Fit the pipeline on the training data\n",
    "pipeline.fit(X_train)\n",
    "\n",
    "# Fit and transform the training data\n",
    "X_train_pca = pipeline.transform(X_train)\n",
    "X_test_pca = pipeline.transform(X_test)\n",
    "\n",
    "# Convert NumPy array to DataFrame\n",
    "X_train_pca = pd.DataFrame(X_train_pca, columns=[f'PC{i}' for i in range(1, X_train_pca.shape[1] + 1)])\n",
    "X_test_pca = pd.DataFrame(X_test_pca, columns=[f'PC{i}' for i in range(1, X_train_pca.shape[1] + 1)])\n"
   ]
  },
  {
   "cell_type": "markdown",
   "metadata": {},
   "source": [
    "# FFT"
   ]
  },
  {
   "cell_type": "code",
   "execution_count": 92,
   "metadata": {},
   "outputs": [],
   "source": [
    "# Apply Scipy fft\n",
    "X_train_fft = fft(X_train)\n",
    "X_test_fft = fft(X_test)"
   ]
  },
  {
   "cell_type": "markdown",
   "metadata": {},
   "source": [
    "# Predictions"
   ]
  },
  {
   "cell_type": "code",
   "execution_count": 106,
   "metadata": {},
   "outputs": [
    {
     "name": "stdout",
     "output_type": "stream",
     "text": [
      "Random Forest Classifier with PCA: 0.8439306358381503\n",
      "Random Forest Classifier with FFT: 0.7225433526011561\n"
     ]
    }
   ],
   "source": [
    "# Random Forest Classifier\n",
    "# Use ravel to convert y_train from a column vector to a 1d array\n",
    "# Accuracy formula: (TP + TN) / (TP + TN + FP + FN)\n",
    "rf = RandomForestClassifier(n_estimators=100, random_state=42)\n",
    "rf.fit(X_train_pca, y_train.values.ravel())\n",
    "y_test_pred = rf.predict(X_test_pca)\n",
    "print(f\"Random Forest Classifier with PCA: {accuracy_score(y_test, y_test_pred)}\")\n",
    "\n",
    "rf = RandomForestClassifier(n_estimators=100, random_state=42)\n",
    "rf.fit(X_train_fft.real, y_train.values.ravel())\n",
    "y_test_pred = rf.predict(X_test_fft.real)\n",
    "print(f\"Random Forest Classifier with FFT: {accuracy_score(y_test, y_test_pred)}\")"
   ]
  }
 ],
 "metadata": {
  "kernelspec": {
   "display_name": "Python 3",
   "language": "python",
   "name": "python3"
  },
  "language_info": {
   "codemirror_mode": {
    "name": "ipython",
    "version": 3
   },
   "file_extension": ".py",
   "mimetype": "text/x-python",
   "name": "python",
   "nbconvert_exporter": "python",
   "pygments_lexer": "ipython3",
   "version": "3.12.0"
  }
 },
 "nbformat": 4,
 "nbformat_minor": 2
}
